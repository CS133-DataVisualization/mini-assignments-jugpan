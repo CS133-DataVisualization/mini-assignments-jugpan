{
  "cells": [
    {
      "cell_type": "markdown",
      "metadata": {
        "id": "ZgULxg_0AuZL"
      },
      "source": [
        "###**Q1**.  Use [Lucidchart](https://sjsu.edu/it/services/applications/lucidchart.php) to create an Entity Relationship Diagram (ERD) for the following tables representing a customer order tracking system:\n",
        "\n",
        "Tables and fields:\n",
        "1. product:\n",
        "    - product_id: INTEGER (Primary key)\n",
        "    - name: TEXT not null\n",
        "    - price: REAL\n",
        "\n",
        "\n",
        "2. customer:\n",
        "    - customer_id: INTEGER (Primary key)\n",
        "    - name: TEXT not null\n",
        "    - email: TEXT not null\n",
        "\n",
        "\n",
        "3. purchase_order:\n",
        "    - order_id: INTEGER (Primary key)\n",
        "    - customer_id: INTEGER (Foreign key)\n",
        "    - date: TEXT not null (\"YYYY-MM-DD\")\n",
        "\n",
        "\n",
        "4. order_item:\n",
        "    - order_id: INTEGER (Foreign key)\n",
        "    - product_id: INTEGER (Foreign key)\n",
        "    - quantity: INTEGER\n",
        "    \n",
        "\n",
        "\n",
        "Export the ERD as PDF and submit it in Canvas."
      ]
    },
    {
      "cell_type": "markdown",
      "metadata": {
        "id": "PZJtgMx7AuZO"
      },
      "source": [
        "###**Q2**. Create SQLite tables and load data\n",
        "1. Here are the csv files for the data for the four tables:\n",
        "   - product: https://raw.githubusercontent.com/csbfx/cs133/main/product.csv\n",
        "   - customer: https://raw.githubusercontent.com/csbfx/cs133/main/customer.csv\n",
        "   - order_item: https://raw.githubusercontent.com/csbfx/cs133/main/order_item.csv\n",
        "   - purchase_order: https://raw.githubusercontent.com/csbfx/cs133/main/purchase_order.csv\n",
        "2. In this notebook, create the database and save it in a file called `store.db`, and create the four tables as described above.\n",
        "3. Load the data in the csv files into the corresponding table.\n",
        "4. Commit so that the data loaded to the tables to officially written to the tables.\n",
        "5. Execute a query SELECT * from each table to make sure the data are properly loaded.\n",
        "6. Execute a query using SELECT statement that queries with JOIN tables to find the purchase date, the products and quantities that a particular customer has purchased."
      ]
    },
    {
      "cell_type": "code",
      "execution_count": 3,
      "metadata": {
        "id": "w4xnppG8AuZP"
      },
      "outputs": [],
      "source": [
        "# 2.2 Create the database and save it in a file called store.db, and create the four tables as described above.\n",
        "# Your code here . . .\n",
        "import sqlite3\n",
        "import pandas as pd\n",
        "\n",
        "conn = sqlite3.connect('store.db')\n",
        "cursor = conn.cursor()\n",
        "\n",
        "cursor.execute('''\n",
        "CREATE TABLE IF NOT EXISTS product (\n",
        "    product_id INTEGER PRIMARY KEY,\n",
        "    name TEXT NOT NULL,\n",
        "    price REAL\n",
        ");\n",
        "''')\n",
        "\n",
        "cursor.execute('''\n",
        "CREATE TABLE IF NOT EXISTS customer (\n",
        "    customer_id INTEGER PRIMARY KEY,\n",
        "    name TEXT NOT NULL,\n",
        "    email TEXT NOT NULL\n",
        ");\n",
        "''')\n",
        "\n",
        "cursor.execute('''\n",
        "CREATE TABLE IF NOT EXISTS purchase_order (\n",
        "    order_id INTEGER PRIMARY KEY,\n",
        "    customer_id INTEGER,\n",
        "    date TEXT NOT NULL,\n",
        "    FOREIGN KEY (customer_id) REFERENCES customer (customer_id)\n",
        ");\n",
        "''')\n",
        "\n",
        "cursor.execute('''\n",
        "CREATE TABLE IF NOT EXISTS order_item (\n",
        "    order_id INTEGER,\n",
        "    product_id INTEGER,\n",
        "    quantity INTEGER,\n",
        "    FOREIGN KEY (order_id) REFERENCES purchase_order (order_id),\n",
        "    FOREIGN KEY (product_id) REFERENCES product (product_id),\n",
        "    PRIMARY KEY (order_id, product_id)  -- composite primary key\n",
        ");\n",
        "''')\n",
        "\n",
        "conn.commit()"
      ]
    },
    {
      "cell_type": "code",
      "source": [
        "# 2.3 Load the data in the csv files into the corresponding table.\n",
        "# Your code here . . .\n",
        "product = pd.read_csv(\"https://raw.githubusercontent.com/csbfx/cs133/main/product.csv\")\n",
        "customer = pd.read_csv(\"https://raw.githubusercontent.com/csbfx/cs133/main/customer.csv\")\n",
        "order_item = pd.read_csv(\"https://raw.githubusercontent.com/csbfx/cs133/main/order_item.csv\")\n",
        "purchase_order = pd.read_csv(\"https://raw.githubusercontent.com/csbfx/cs133/main/purchase_order.csv\")\n",
        "\n",
        "product.to_sql('product', conn, if_exists='append', index=False)\n",
        "customer.to_sql('customer', conn, if_exists='append', index=False)\n",
        "order_item.to_sql('order_item', conn, if_exists='append', index=False)\n",
        "purchase_order.to_sql(\"purchase_order\", conn, if_exists='append', index=False)"
      ],
      "metadata": {
        "id": "WPRhy-dSBY-c",
        "colab": {
          "base_uri": "https://localhost:8080/"
        },
        "outputId": "5cbcedd2-bcb4-4b18-8f46-454fd380ca5d"
      },
      "execution_count": 4,
      "outputs": [
        {
          "output_type": "execute_result",
          "data": {
            "text/plain": [
              "3"
            ]
          },
          "metadata": {},
          "execution_count": 4
        }
      ]
    },
    {
      "cell_type": "code",
      "source": [
        "# 2.4 Commit so that the data loaded to the tables to officially written to the tables.\n",
        "# Your code here . . .\n",
        "conn.commit()"
      ],
      "metadata": {
        "id": "VIBaGXPABbVO"
      },
      "execution_count": 5,
      "outputs": []
    },
    {
      "cell_type": "code",
      "source": [
        "# 2.5 Execute a query SELECT * from each table to make sure the data are properly loaded.\n",
        "# Your code here . . .\n",
        "cursor.execute(\"SELECT * FROM product\")\n",
        "product_data = cursor.fetchall()\n",
        "print(product_data)\n",
        "\n",
        "cursor.execute(\"SELECT * FROM customer\")\n",
        "customer_data = cursor.fetchall()\n",
        "print(customer_data)\n",
        "\n",
        "cursor.execute(\"SELECT * FROM purchase_order\")\n",
        "purchase_order_data = cursor.fetchall()\n",
        "print(purchase_order_data)\n",
        "\n",
        "cursor.execute(\"SELECT * FROM order_item\")\n",
        "order_item_data = cursor.fetchall()\n",
        "print(order_item_data)"
      ],
      "metadata": {
        "id": "wPHFswfYBgan",
        "colab": {
          "base_uri": "https://localhost:8080/"
        },
        "outputId": "156431f7-190d-4d7f-ada5-5f2ff311ae61"
      },
      "execution_count": 7,
      "outputs": [
        {
          "output_type": "stream",
          "name": "stdout",
          "text": [
            "[(0, 'bicycle', 400.0), (1, 'helmet', 45.0), (2, 'gloves', 23.0), (3, 'chain', 48.0)]\n",
            "[(0, 'Wendy Lee', 'wlee@bike.com'), (1, 'Jason Brown', 'jb@speed.com'), (2, 'Harry Potter', 'hp@hogwarts.edu'), (3, 'Godric Gryffindor', 'gg@hogwards.edu')]\n",
            "[(0, 0, '2020-10-19'), (1, 0, '2020-10-20'), (2, 1, '2020-10-20')]\n",
            "[(0, 0, 1), (0, 1, 1), (1, 2, 2), (1, 3, 1)]\n"
          ]
        }
      ]
    },
    {
      "cell_type": "code",
      "source": [
        "# 2.6 Execute a query using SELECT statement that queries with JOIN tables to find the purchase date,\n",
        "#    the products and quantities that a particular customer has purchased.\n",
        "# Query 1: Orders for Wendy Lee\n",
        "# Query 2: Orders for Jason Brown\n",
        "# Your code here . . .\n",
        "query1 = '''\n",
        "SELECT\n",
        "    po.date AS purchase_date,\n",
        "    p.name AS product_name,\n",
        "    oi.quantity AS quantity\n",
        "FROM\n",
        "    purchase_order po\n",
        "JOIN\n",
        "    order_item oi ON po.order_id = oi.order_id\n",
        "JOIN\n",
        "    product p ON oi.product_id = p.product_id\n",
        "WHERE\n",
        "    po.customer_id = 0;\n",
        "'''\n",
        "\n",
        "query2 = '''\n",
        "SELECT\n",
        "    po.date AS purchase_date,\n",
        "    p.name AS product_name,\n",
        "    oi.quantity AS quantity\n",
        "FROM\n",
        "    purchase_order po\n",
        "JOIN\n",
        "    order_item oi ON po.order_id = oi.order_id\n",
        "JOIN\n",
        "    product p ON oi.product_id = p.product_id\n",
        "WHERE\n",
        "    po.customer_id = 1;\n",
        "'''\n",
        "cursor.execute(query1)\n",
        "query1data = cursor.fetchall()\n",
        "print(query1data)\n",
        "\n",
        "cursor.execute(query2)\n",
        "query2data = cursor.fetchall()\n",
        "print(query2data)"
      ],
      "metadata": {
        "id": "armxZeMPBmSe",
        "colab": {
          "base_uri": "https://localhost:8080/"
        },
        "outputId": "7447557f-e21a-4c33-c0f5-43896a997c98"
      },
      "execution_count": 12,
      "outputs": [
        {
          "output_type": "stream",
          "name": "stdout",
          "text": [
            "[('2020-10-19', 'bicycle', 1), ('2020-10-19', 'helmet', 1), ('2020-10-20', 'gloves', 2), ('2020-10-20', 'chain', 1)]\n",
            "[]\n"
          ]
        }
      ]
    },
    {
      "cell_type": "code",
      "source": [
        "# Additional tasks\n",
        "# Appending a new row to one of the tables\n",
        "# Deleting row(s) with \"XXX\""
      ],
      "metadata": {
        "id": "h17Hwcs5jvoA"
      },
      "execution_count": null,
      "outputs": []
    }
  ],
  "metadata": {
    "kernelspec": {
      "display_name": "Python 3",
      "language": "python",
      "name": "python3"
    },
    "language_info": {
      "codemirror_mode": {
        "name": "ipython",
        "version": 3
      },
      "file_extension": ".py",
      "mimetype": "text/x-python",
      "name": "python",
      "nbconvert_exporter": "python",
      "pygments_lexer": "ipython3",
      "version": "3.7.6"
    },
    "colab": {
      "provenance": []
    }
  },
  "nbformat": 4,
  "nbformat_minor": 0
}